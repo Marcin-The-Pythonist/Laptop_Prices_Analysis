{
 "cells": [
  {
   "cell_type": "markdown",
   "id": "76b75d74",
   "metadata": {},
   "source": [
    "# Data analysis of laptop prices "
   ]
  },
  {
   "cell_type": "markdown",
   "id": "49ee61cb",
   "metadata": {},
   "source": [
    "### Loading the data and libraries "
   ]
  },
  {
   "cell_type": "code",
   "execution_count": 16,
   "id": "d147e809",
   "metadata": {},
   "outputs": [],
   "source": [
    "import pandas as pd \n",
    "import numpy as np \n",
    "import matplotlib.pyplot as plt\n",
    "import seaborn as sns"
   ]
  },
  {
   "cell_type": "code",
   "execution_count": 17,
   "id": "c24367f3",
   "metadata": {},
   "outputs": [],
   "source": [
    "data = pd.read_csv('laptops.csv')"
   ]
  },
  {
   "cell_type": "markdown",
   "id": "63c5a967",
   "metadata": {},
   "source": [
    "### Exploring the data"
   ]
  },
  {
   "cell_type": "markdown",
   "id": "97accbca",
   "metadata": {},
   "source": [
    "#### Basic information"
   ]
  },
  {
   "cell_type": "code",
   "execution_count": 18,
   "id": "403c8029",
   "metadata": {},
   "outputs": [
    {
     "name": "stdout",
     "output_type": "stream",
     "text": [
      "(1146, 18)\n"
     ]
    },
    {
     "data": {
      "text/html": [
       "<div>\n",
       "<style scoped>\n",
       "    .dataframe tbody tr th:only-of-type {\n",
       "        vertical-align: middle;\n",
       "    }\n",
       "\n",
       "    .dataframe tbody tr th {\n",
       "        vertical-align: top;\n",
       "    }\n",
       "\n",
       "    .dataframe thead th {\n",
       "        text-align: right;\n",
       "    }\n",
       "</style>\n",
       "<table border=\"1\" class=\"dataframe\">\n",
       "  <thead>\n",
       "    <tr style=\"text-align: right;\">\n",
       "      <th></th>\n",
       "      <th>Company</th>\n",
       "      <th>Product</th>\n",
       "      <th>TypeName</th>\n",
       "      <th>Inches</th>\n",
       "      <th>ScreenResolution</th>\n",
       "      <th>Ram</th>\n",
       "      <th>OpSys</th>\n",
       "      <th>Cpu Brand</th>\n",
       "      <th>Cpu Model</th>\n",
       "      <th>Cpu Rate</th>\n",
       "      <th>SSD</th>\n",
       "      <th>HDD</th>\n",
       "      <th>Flash Storage</th>\n",
       "      <th>Hybrid</th>\n",
       "      <th>Gpu Brand</th>\n",
       "      <th>Gpu Model</th>\n",
       "      <th>Unnamed: 16</th>\n",
       "      <th>Price_euros</th>\n",
       "    </tr>\n",
       "  </thead>\n",
       "  <tbody>\n",
       "    <tr>\n",
       "      <th>0</th>\n",
       "      <td>HP</td>\n",
       "      <td>250 G6</td>\n",
       "      <td>Notebook</td>\n",
       "      <td>15.6</td>\n",
       "      <td>Full HD 1920x1080</td>\n",
       "      <td>8GB</td>\n",
       "      <td>No OS</td>\n",
       "      <td>Intel</td>\n",
       "      <td>Core i5 7200U</td>\n",
       "      <td>2.5GHz</td>\n",
       "      <td>256</td>\n",
       "      <td>0</td>\n",
       "      <td>0</td>\n",
       "      <td>0</td>\n",
       "      <td>Intel</td>\n",
       "      <td>HD Graphics 620</td>\n",
       "      <td>NaN</td>\n",
       "      <td>575.0</td>\n",
       "    </tr>\n",
       "    <tr>\n",
       "      <th>1</th>\n",
       "      <td>Acer</td>\n",
       "      <td>Aspire 3</td>\n",
       "      <td>Notebook</td>\n",
       "      <td>15.6</td>\n",
       "      <td>1366x768</td>\n",
       "      <td>4GB</td>\n",
       "      <td>Windows 10</td>\n",
       "      <td>AMD</td>\n",
       "      <td>A9-Series 9420</td>\n",
       "      <td>3GHz</td>\n",
       "      <td>0</td>\n",
       "      <td>500</td>\n",
       "      <td>0</td>\n",
       "      <td>0</td>\n",
       "      <td>AMD</td>\n",
       "      <td>Radeon R5</td>\n",
       "      <td>NaN</td>\n",
       "      <td>400.0</td>\n",
       "    </tr>\n",
       "    <tr>\n",
       "      <th>2</th>\n",
       "      <td>Asus</td>\n",
       "      <td>ZenBook UX430UN</td>\n",
       "      <td>Ultrabook</td>\n",
       "      <td>14.0</td>\n",
       "      <td>Full HD 1920x1080</td>\n",
       "      <td>16GB</td>\n",
       "      <td>Windows 10</td>\n",
       "      <td>Intel</td>\n",
       "      <td>Core i7 8550U</td>\n",
       "      <td>1.8GHz</td>\n",
       "      <td>512</td>\n",
       "      <td>0</td>\n",
       "      <td>0</td>\n",
       "      <td>0</td>\n",
       "      <td>Nvidia</td>\n",
       "      <td>GeForce MX150</td>\n",
       "      <td>NaN</td>\n",
       "      <td>1495.0</td>\n",
       "    </tr>\n",
       "    <tr>\n",
       "      <th>3</th>\n",
       "      <td>Acer</td>\n",
       "      <td>Swift 3</td>\n",
       "      <td>Ultrabook</td>\n",
       "      <td>14.0</td>\n",
       "      <td>IPS Panel Full HD 1920x1080</td>\n",
       "      <td>8GB</td>\n",
       "      <td>Windows 10</td>\n",
       "      <td>Intel</td>\n",
       "      <td>Core i5 8250U</td>\n",
       "      <td>1.6GHz</td>\n",
       "      <td>256</td>\n",
       "      <td>0</td>\n",
       "      <td>0</td>\n",
       "      <td>0</td>\n",
       "      <td>Intel</td>\n",
       "      <td>UHD Graphics 620</td>\n",
       "      <td>NaN</td>\n",
       "      <td>770.0</td>\n",
       "    </tr>\n",
       "    <tr>\n",
       "      <th>4</th>\n",
       "      <td>HP</td>\n",
       "      <td>250 G6</td>\n",
       "      <td>Notebook</td>\n",
       "      <td>15.6</td>\n",
       "      <td>1366x768</td>\n",
       "      <td>4GB</td>\n",
       "      <td>No OS</td>\n",
       "      <td>Intel</td>\n",
       "      <td>Core i5 7200U</td>\n",
       "      <td>2.5GHz</td>\n",
       "      <td>0</td>\n",
       "      <td>500</td>\n",
       "      <td>0</td>\n",
       "      <td>0</td>\n",
       "      <td>Intel</td>\n",
       "      <td>HD Graphics 620</td>\n",
       "      <td>NaN</td>\n",
       "      <td>393.9</td>\n",
       "    </tr>\n",
       "  </tbody>\n",
       "</table>\n",
       "</div>"
      ],
      "text/plain": [
       "  Company          Product   TypeName  Inches             ScreenResolution  \\\n",
       "0      HP           250 G6   Notebook    15.6            Full HD 1920x1080   \n",
       "1    Acer         Aspire 3   Notebook    15.6                     1366x768   \n",
       "2    Asus  ZenBook UX430UN  Ultrabook    14.0            Full HD 1920x1080   \n",
       "3    Acer          Swift 3  Ultrabook    14.0  IPS Panel Full HD 1920x1080   \n",
       "4      HP           250 G6   Notebook    15.6                     1366x768   \n",
       "\n",
       "    Ram       OpSys Cpu Brand       Cpu Model Cpu Rate  SSD  HDD  \\\n",
       "0   8GB       No OS     Intel   Core i5 7200U   2.5GHz  256    0   \n",
       "1   4GB  Windows 10       AMD  A9-Series 9420     3GHz    0  500   \n",
       "2  16GB  Windows 10     Intel   Core i7 8550U   1.8GHz  512    0   \n",
       "3   8GB  Windows 10     Intel   Core i5 8250U   1.6GHz  256    0   \n",
       "4   4GB       No OS     Intel   Core i5 7200U   2.5GHz    0  500   \n",
       "\n",
       "   Flash Storage  Hybrid Gpu Brand         Gpu Model  Unnamed: 16  Price_euros  \n",
       "0              0       0     Intel   HD Graphics 620          NaN        575.0  \n",
       "1              0       0       AMD         Radeon R5          NaN        400.0  \n",
       "2              0       0    Nvidia     GeForce MX150          NaN       1495.0  \n",
       "3              0       0     Intel  UHD Graphics 620          NaN        770.0  \n",
       "4              0       0     Intel   HD Graphics 620          NaN        393.9  "
      ]
     },
     "execution_count": 18,
     "metadata": {},
     "output_type": "execute_result"
    }
   ],
   "source": [
    "print(data.shape) # Number of rows and columns\n",
    "data.head(5)"
   ]
  },
  {
   "cell_type": "markdown",
   "id": "cfeae22d",
   "metadata": {},
   "source": [
    "#### Data optimization"
   ]
  },
  {
   "cell_type": "code",
   "execution_count": 19,
   "id": "8e5fd20b",
   "metadata": {},
   "outputs": [
    {
     "name": "stdout",
     "output_type": "stream",
     "text": [
      "<class 'pandas.core.frame.DataFrame'>\n",
      "RangeIndex: 1146 entries, 0 to 1145\n",
      "Data columns (total 18 columns):\n",
      " #   Column            Non-Null Count  Dtype  \n",
      "---  ------            --------------  -----  \n",
      " 0   Company           1146 non-null   object \n",
      " 1   Product           1146 non-null   object \n",
      " 2   TypeName          1146 non-null   object \n",
      " 3   Inches            1146 non-null   float64\n",
      " 4   ScreenResolution  1146 non-null   object \n",
      " 5   Ram               1146 non-null   object \n",
      " 6   OpSys             1146 non-null   object \n",
      " 7   Cpu Brand         1146 non-null   object \n",
      " 8   Cpu Model         1146 non-null   object \n",
      " 9   Cpu Rate          1146 non-null   object \n",
      " 10  SSD               1146 non-null   int64  \n",
      " 11  HDD               1146 non-null   int64  \n",
      " 12  Flash Storage     1146 non-null   int64  \n",
      " 13  Hybrid            1146 non-null   int64  \n",
      " 14  Gpu Brand         1146 non-null   object \n",
      " 15  Gpu Model         1146 non-null   object \n",
      " 16  Unnamed: 16       0 non-null      float64\n",
      " 17  Price_euros       1146 non-null   float64\n",
      "dtypes: float64(3), int64(4), object(11)\n",
      "memory usage: 161.3+ KB\n"
     ]
    }
   ],
   "source": [
    "data.info()"
   ]
  },
  {
   "cell_type": "code",
   "execution_count": 20,
   "id": "d7a5c954",
   "metadata": {},
   "outputs": [],
   "source": [
    "# RAM and CPU clock speed can be represented as integer and float. An integer and float takes less space than a string. \n",
    "# Hence the columns will be converted. \n",
    "data.Ram = data.Ram.replace(\"GB\", \"\", regex=True).astype(\"int\")\n",
    "data[\"Cpu Rate\"] = data[\"Cpu Rate\"].replace(\"GHz\", \"\", regex=True).astype(\"float\")"
   ]
  },
  {
   "cell_type": "code",
   "execution_count": 21,
   "id": "fd1a3cd9",
   "metadata": {},
   "outputs": [],
   "source": [
    "# To save some space one can change column type to 'categorical' when there are is a lot of repating strings. \n",
    "data[[\"Company\", \"TypeName\", \"ScreenResolution\", \"OpSys\", \"Gpu Brand\", \"Gpu Model\", \"Cpu Model\", \"Cpu Brand\", \"Product\"]] = data[[\"Company\", \"TypeName\", \"ScreenResolution\", \"OpSys\", \"Gpu Brand\", \"Gpu Model\", \"Cpu Model\", \"Cpu Brand\", \"Product\"]].astype(\"category\")"
   ]
  },
  {
   "cell_type": "code",
   "execution_count": 22,
   "id": "591bc8d7",
   "metadata": {},
   "outputs": [
    {
     "name": "stdout",
     "output_type": "stream",
     "text": [
      "<class 'pandas.core.frame.DataFrame'>\n",
      "RangeIndex: 1146 entries, 0 to 1145\n",
      "Data columns (total 18 columns):\n",
      " #   Column            Non-Null Count  Dtype   \n",
      "---  ------            --------------  -----   \n",
      " 0   Company           1146 non-null   category\n",
      " 1   Product           1146 non-null   category\n",
      " 2   TypeName          1146 non-null   category\n",
      " 3   Inches            1146 non-null   float64 \n",
      " 4   ScreenResolution  1146 non-null   category\n",
      " 5   Ram               1146 non-null   int64   \n",
      " 6   OpSys             1146 non-null   category\n",
      " 7   Cpu Brand         1146 non-null   category\n",
      " 8   Cpu Model         1146 non-null   category\n",
      " 9   Cpu Rate          1146 non-null   float64 \n",
      " 10  SSD               1146 non-null   int64   \n",
      " 11  HDD               1146 non-null   int64   \n",
      " 12  Flash Storage     1146 non-null   int64   \n",
      " 13  Hybrid            1146 non-null   int64   \n",
      " 14  Gpu Brand         1146 non-null   category\n",
      " 15  Gpu Model         1146 non-null   category\n",
      " 16  Unnamed: 16       0 non-null      float64 \n",
      " 17  Price_euros       1146 non-null   float64 \n",
      "dtypes: category(9), float64(4), int64(5)\n",
      "memory usage: 120.3 KB\n"
     ]
    }
   ],
   "source": [
    "data.info()"
   ]
  },
  {
   "cell_type": "code",
   "execution_count": 23,
   "id": "cddd3631",
   "metadata": {},
   "outputs": [
    {
     "name": "stdout",
     "output_type": "stream",
     "text": [
      "28.15 % less\n",
      "45.4 KB less\n",
      "Due to the optimization process\n"
     ]
    }
   ],
   "source": [
    "print(f\"{round((161.3 - 115.9) / 161.3, 4) * 100} % less\")\n",
    "print(f\"{round(161.3 - 115.9, 2)} KB less\")\n",
    "print(\"Due to the optimization process\")"
   ]
  },
  {
   "cell_type": "markdown",
   "id": "90e64545-503c-43ae-a6c0-a9d5190aaa3d",
   "metadata": {},
   "source": [
    "#### Checking for missing values"
   ]
  },
  {
   "cell_type": "code",
   "execution_count": 51,
   "id": "70699741-02a9-4638-98ca-d25ae9709938",
   "metadata": {},
   "outputs": [
    {
     "data": {
      "text/plain": [
       "Company                0\n",
       "Product                0\n",
       "TypeName               0\n",
       "Inches                 0\n",
       "ScreenResolution       0\n",
       "Ram                    0\n",
       "OpSys                  0\n",
       "Cpu Brand              0\n",
       "Cpu Model              0\n",
       "Cpu Rate               0\n",
       "SSD                    0\n",
       "HDD                    0\n",
       "Flash Storage          0\n",
       "Hybrid                 0\n",
       "Gpu Brand              0\n",
       "Gpu Model              0\n",
       "Unnamed: 16         1146\n",
       "Price_euros            0\n",
       "dtype: int64"
      ]
     },
     "execution_count": 51,
     "metadata": {},
     "output_type": "execute_result"
    }
   ],
   "source": [
    "data.isnull().sum()"
   ]
  },
  {
   "cell_type": "code",
   "execution_count": 60,
   "id": "de212f26-05a4-4abe-b3d0-7b5b798d37bd",
   "metadata": {},
   "outputs": [
    {
     "data": {
      "text/plain": [
       "Index(['Company', 'Product', 'TypeName', 'Inches', 'ScreenResolution', 'Ram',\n",
       "       'OpSys', 'Cpu Brand', 'Cpu Model', 'Cpu Rate', 'SSD', 'HDD',\n",
       "       'Flash Storage', 'Hybrid', 'Gpu Brand', 'Gpu Model', 'Price_euros'],\n",
       "      dtype='object')"
      ]
     },
     "execution_count": 60,
     "metadata": {},
     "output_type": "execute_result"
    }
   ],
   "source": [
    "data.drop(columns=\"Unnamed: 16\", inplace=True)"
   ]
  },
  {
   "cell_type": "markdown",
   "id": "9adc2d16-54fe-4f21-983b-3965cf209e93",
   "metadata": {},
   "source": [
    "#### Visualization"
   ]
  },
  {
   "cell_type": "code",
   "execution_count": 135,
   "id": "9b410085-ca7f-4eaa-a9d5-81cfc32b8cfd",
   "metadata": {},
   "outputs": [
    {
     "data": {
      "text/plain": [
       "Text(0.5, 1.0, 'Gpu Popularity')"
      ]
     },
     "execution_count": 135,
     "metadata": {},
     "output_type": "execute_result"
    },
    {
     "data": {
      "image/png": "[encoded data removed]",
      "text/plain": [
       "<Figure size 640x480 with 2 Axes>"
      ]
     },
     "metadata": {},
     "output_type": "display_data"
    }
   ],
   "source": [
    "# Popularity of brands\n",
    "\n",
    "plt.style.use('ggplot')\n",
    "fig, ax = plt.subplots(1,2)\n",
    "ax[0].bar(x=['Intel', 'AMD'], height=data['Cpu Brand'].value_counts(), color=[[0,0,1,0.8], [1,0,0,0.8]])\n",
    "ax[0].set_title('Cpu Popularity')\n",
    "\n",
    "ax[1].bar(x=['Intel', 'Nvidia', 'AMD'], height=data['Gpu Brand'].value_counts(), color=[[0,0,1,0.8], [0,1,0,0.8], [1,0,0,0.8]])\n",
    "ax[1].set_title('Gpu Popularity')"
   ]
  },
  {
   "cell_type": "code",
   "execution_count": 131,
   "id": "e59a2a90-fff3-4f69-80bb-273a123d45ca",
   "metadata": {},
   "outputs": [
    {
     "data": {
      "text/plain": [
       "Gpu Brand\n",
       "Intel     578\n",
       "Nvidia    395\n",
       "AMD       173\n",
       "Name: count, dtype: int64"
      ]
     },
     "execution_count": 131,
     "metadata": {},
     "output_type": "execute_result"
    }
   ],
   "source": [
    "data['Gpu Brand'].value_counts()"
   ]
  }
 ],
 "metadata": {
  "kernelspec": {
   "display_name": "Python 3 (ipykernel)",
   "language": "python",
   "name": "python3"
  },
  "language_info": {
   "codemirror_mode": {
    "name": "ipython",
    "version": 3
   },
   "file_extension": ".py",
   "mimetype": "text/x-python",
   "name": "python",
   "nbconvert_exporter": "python",
   "pygments_lexer": "ipython3",
   "version": "3.12.4"
  }
 },
 "nbformat": 4,
 "nbformat_minor": 5
}
